{
  "nbformat": 4,
  "nbformat_minor": 0,
  "metadata": {
    "colab": {
      "provenance": [],
      "authorship_tag": "ABX9TyPmGaG59G1i8ck3zSDGX4gY",
      "include_colab_link": true
    },
    "kernelspec": {
      "name": "python3",
      "display_name": "Python 3"
    },
    "language_info": {
      "name": "python"
    }
  },
  "cells": [
    {
      "cell_type": "markdown",
      "metadata": {
        "id": "view-in-github",
        "colab_type": "text"
      },
      "source": [
        "<a href=\"https://colab.research.google.com/github/OlliSensible/HW-Mathematics-for-Computer-Science/blob/HomeWork-1/%D0%94%D0%971_%D0%A1%D0%B5%D0%BD%D1%87%D0%B8%D0%BA.ipynb\" target=\"_parent\"><img src=\"https://colab.research.google.com/assets/colab-badge.svg\" alt=\"Open In Colab\"/></a>"
      ]
    },
    {
      "cell_type": "markdown",
      "source": [
        "1. У своєму Колабі введи вектор (матрицю розміром `1:8`)* A. Як це зробити - детально показано у конспекті до теми 1 “Вектори, матриці та операції над ними”. Вектор А - показники твого колеса життєвого балансу."
      ],
      "metadata": {
        "id": "xeBGyG-y4oN1"
      }
    },
    {
      "cell_type": "code",
      "execution_count": null,
      "metadata": {
        "colab": {
          "base_uri": "https://localhost:8080/"
        },
        "id": "Pq1be1LE2Jl9",
        "outputId": "157994d9-4e35-490d-e365-1238ccd4d2be"
      },
      "outputs": [
        {
          "output_type": "stream",
          "name": "stdout",
          "text": [
            "[ 3  9  8 10 10 10 10  9]\n"
          ]
        }
      ],
      "source": [
        "import numpy as np\n",
        "A = np.array([ 3,  9,  8, 10, 10, 10, 10, 9])\n",
        "print(A)"
      ]
    },
    {
      "cell_type": "markdown",
      "source": [
        "2. Обрахуй суму елементів вектора А - це твій теперішній “показник щастя”.\n"
      ],
      "metadata": {
        "id": "yndibrAa4riE"
      }
    },
    {
      "cell_type": "code",
      "source": [
        "sum_A = np.sum(A)\n",
        "print(\"Показник щастя: \", sum_A)"
      ],
      "metadata": {
        "colab": {
          "base_uri": "https://localhost:8080/"
        },
        "id": "taZI6fSR8Wi8",
        "outputId": "749e33a6-9ad1-4160-f478-efc187846ede"
      },
      "execution_count": null,
      "outputs": [
        {
          "output_type": "stream",
          "name": "stdout",
          "text": [
            "Показник щастя:  69\n"
          ]
        }
      ]
    },
    {
      "cell_type": "markdown",
      "source": [
        "3. Введи вектор B. Це показники розподілу твого життя за сферами.\n"
      ],
      "metadata": {
        "id": "5h8NK-YN7cXF"
      }
    },
    {
      "cell_type": "code",
      "source": [
        "B = np.array([ 1,  1,  45, 3, 35, 17, 11, 9])\n",
        "print(B)"
      ],
      "metadata": {
        "colab": {
          "base_uri": "https://localhost:8080/"
        },
        "id": "nXdetDsE80DL",
        "outputId": "d58a3a11-0605-4e19-d0e2-5a27bb4a2176"
      },
      "execution_count": null,
      "outputs": [
        {
          "output_type": "stream",
          "name": "stdout",
          "text": [
            "[ 1  1 45  3 35 17 11  9]\n"
          ]
        }
      ]
    },
    {
      "cell_type": "markdown",
      "source": [
        "4. Обрахуй вектор C, що дорівнює C = A / B. Це ефективність твого життя. Тобто скільки \"балів щастя\" ти отримуєш за 1 годину на тиждень, що приділяєш відповідній сфері.\n"
      ],
      "metadata": {
        "id": "vkHBAmib7gkR"
      }
    },
    {
      "cell_type": "code",
      "source": [
        "C = A / B\n",
        "\n",
        "print(\"Eфективність життя: \", C)"
      ],
      "metadata": {
        "colab": {
          "base_uri": "https://localhost:8080/"
        },
        "id": "p_8ahDlG9Gn_",
        "outputId": "a467764e-b6de-4768-b9dd-85c6926f4a13"
      },
      "execution_count": null,
      "outputs": [
        {
          "output_type": "stream",
          "name": "stdout",
          "text": [
            "Eфективність життя:  [3.         9.         0.17777778 3.33333333 0.28571429 0.58823529\n",
            " 0.90909091 1.        ]\n"
          ]
        }
      ]
    },
    {
      "cell_type": "markdown",
      "source": [
        "5. Прийми рішення щодо швидких змін у твоєму житті. Подумай, як би ти хотів перерозподілити час. Запиши результат нового розподілу часу у Google Sheet у стовпчик “Перерозподілена кількість годин” на листі “Математичний апарат” та у Колабі введи її як вектор D."
      ],
      "metadata": {
        "id": "SAlyR9iw8OPr"
      }
    },
    {
      "cell_type": "code",
      "source": [
        "D = np.array ([10, 5, 40, 10, 30, 10, 9, 8])\n",
        "print(D)"
      ],
      "metadata": {
        "colab": {
          "base_uri": "https://localhost:8080/"
        },
        "id": "QfCGPb_V8Nwe",
        "outputId": "946e53a3-02f2-41d0-da42-371a0b8cc8d1"
      },
      "execution_count": null,
      "outputs": [
        {
          "output_type": "stream",
          "name": "stdout",
          "text": [
            "[10  5 40 10 30 10  9  8]\n"
          ]
        }
      ]
    },
    {
      "cell_type": "markdown",
      "source": [
        "6. Обрахуй вектор E, як E = D*C. Це твоя прогнозна задоволеність відповідними сферами життя.\n",
        "Обрахуй суму елементів вектора E, яка покаже тобі прогнозований показник щастя при швидких змінах у твоєму житті шляхом перерозподілу часу.\n"
      ],
      "metadata": {
        "id": "g_8Rh6uc7par"
      }
    },
    {
      "cell_type": "code",
      "source": [
        "E = D * C\n",
        "print(\"Прогнозована задоволеність сферами життя: \", E)\n"
      ],
      "metadata": {
        "colab": {
          "base_uri": "https://localhost:8080/"
        },
        "id": "engs4cr5Ah8K",
        "outputId": "bb19e45a-50ae-4b8a-a78b-b998068be2a4"
      },
      "execution_count": null,
      "outputs": [
        {
          "output_type": "stream",
          "name": "stdout",
          "text": [
            "Прогнозована задоволеність сферами життя:  [30.         45.          7.11111111 33.33333333  8.57142857  5.88235294\n",
            "  8.18181818  8.        ]\n"
          ]
        }
      ]
    },
    {
      "cell_type": "markdown",
      "source": [
        "7. Обрахуй суму елементів вектора E, яка покаже тобі прогнозований показник щастя при швидких змінах у твоєму житті шляхом перерозподілу часу."
      ],
      "metadata": {
        "id": "AUw3fckgAeZU"
      }
    },
    {
      "cell_type": "code",
      "source": [
        "sum_E = np.sum(E)\n",
        "print(\"Прогнозований показник щастя: \", sum_E)"
      ],
      "metadata": {
        "colab": {
          "base_uri": "https://localhost:8080/"
        },
        "id": "lgXi99RhBKkZ",
        "outputId": "60ecb005-f6ba-418d-f015-07ed40992e97"
      },
      "execution_count": null,
      "outputs": [
        {
          "output_type": "stream",
          "name": "stdout",
          "text": [
            "Прогнозований показник щастя:  146.08004413886766\n"
          ]
        }
      ]
    },
    {
      "cell_type": "markdown",
      "source": [
        "8. Проаналізуй існуючий та прогнозний показники щастя, зроби висновки у будь-якому вигляді, склади короткий план дій для зміни свого життя."
      ],
      "metadata": {
        "id": "1jqOVDCC7t2V"
      }
    },
    {
      "cell_type": "markdown",
      "source": [
        "Для вирішення даної задачі мені потрібно зробити такі зміни:\n",
        "1. Отримати роботу, і якій я буду бачити карєрний рост, що звищіть кількість годин для цього пункту.\n",
        "2. Дочекатись, коли племінниця трохи підросте, бо показник сімї я поки не можу збільшити... сестра занадто сильно унавлена через те, що тільки 2 місяці тому народила і тому не має часу на мої дзвінки.\n",
        "3. Зробити день друзів. День, коли я зможу провести цілий день тільки з ними.\n",
        "4. Треба знизити кількість годин на хобі. Замінити читання звичайних книг, на читання на англіській мові. Таким чином я переросприділю ці години.\n",
        "5. Зменшити кількість годин на навчання. Це зможу зробити тільки в січні, після закінчення професійного курсу.\n",
        "\n",
        "Всі інші сфери в зоні комфорту."
      ],
      "metadata": {
        "id": "VmYyzsEeBs6n"
      }
    }
  ]
}